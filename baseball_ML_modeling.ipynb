{
  "nbformat": 4,
  "nbformat_minor": 0,
  "metadata": {
    "colab": {
      "name": "baseball ML modeling",
      "provenance": [],
      "authorship_tag": "ABX9TyNcI07Wz4fbpncYX1gi6hLA",
      "include_colab_link": true
    },
    "kernelspec": {
      "name": "python3",
      "display_name": "Python 3"
    },
    "language_info": {
      "name": "python"
    }
  },
  "cells": [
    {
      "cell_type": "markdown",
      "metadata": {
        "id": "view-in-github",
        "colab_type": "text"
      },
      "source": [
        "<a href=\"https://colab.research.google.com/github/ivanshauck/measuring-offensive-baseball-value/blob/main/baseball_ML_modeling.ipynb\" target=\"_parent\"><img src=\"https://colab.research.google.com/assets/colab-badge.svg\" alt=\"Open In Colab\"/></a>"
      ]
    },
    {
      "cell_type": "markdown",
      "source": [
        "For this portion of my project I will create a linear regression that relates offensive outcomes to runs scored, I will do this with a few different data sets, for different purposes. However the main purpose is to find linear weights for different offensive outcomes. I want to know how valuable a single is compared to a walk, how valuable a double is compared to a triple, and so on. The goal is to ultimately have runs as a function of the offensive outcomes, with statistically significant linear weights produced from the regression. Once I have this equation, I believe I will have the basis for a formula that can measure a player's offensive production, in a season, or a career, or just a game, based on his game logs."
      ],
      "metadata": {
        "id": "B2iADxEcdFjz"
      }
    },
    {
      "cell_type": "code",
      "execution_count": null,
      "metadata": {
        "id": "rEvmJe6wsixR"
      },
      "outputs": [],
      "source": [
        "import pandas as pd\n",
        "import numpy as np\n",
        "from scipy import stats\n",
        "import matplotlib.pyplot as plt\n",
        "import seaborn as sns\n",
        "\n",
        "data = pd.read_csv('/content/baseball.csv')"
      ]
    },
    {
      "cell_type": "code",
      "source": [
        "data.info()"
      ],
      "metadata": {
        "colab": {
          "base_uri": "https://localhost:8080/"
        },
        "id": "uNncnUQms5V3",
        "outputId": "8b6064b7-2197-48b3-a2b9-e2f23e7734f4"
      },
      "execution_count": null,
      "outputs": [
        {
          "output_type": "stream",
          "name": "stdout",
          "text": [
            "<class 'pandas.core.frame.DataFrame'>\n",
            "RangeIndex: 123270 entries, 0 to 123269\n",
            "Data columns (total 19 columns):\n",
            " #   Column           Non-Null Count   Dtype  \n",
            "---  ------           --------------   -----  \n",
            " 0   Unnamed: 0       123270 non-null  int64  \n",
            " 1   Unnamed: 0.1     123270 non-null  int64  \n",
            " 2   year             123270 non-null  int64  \n",
            " 3   team             123270 non-null  object \n",
            " 4   score            123270 non-null  int64  \n",
            " 5   at_bats          123270 non-null  float64\n",
            " 6   hits             123270 non-null  float64\n",
            " 7   doubles          123270 non-null  float64\n",
            " 8   triples          123270 non-null  float64\n",
            " 9   home_runs        123270 non-null  float64\n",
            " 10  rbi              123270 non-null  float64\n",
            " 11  sacrifice_hits   123270 non-null  float64\n",
            " 12  sacrifice_flies  123270 non-null  float64\n",
            " 13  walks            123270 non-null  float64\n",
            " 14  stolen_bases     123270 non-null  float64\n",
            " 15  home/away        123270 non-null  object \n",
            " 16  singles          123270 non-null  float64\n",
            " 17  ballpark         123270 non-null  object \n",
            " 18  total_bases      123270 non-null  float64\n",
            "dtypes: float64(12), int64(4), object(3)\n",
            "memory usage: 17.9+ MB\n"
          ]
        }
      ]
    },
    {
      "cell_type": "markdown",
      "source": [
        "This will be the base regression, here I'm just using the offensive outcomes I'm interested in looking at. These are singles, doubles, triples, home runs, walks, stolen bases, and sacrifice flies. I understand that how often one strikes out, or how often one grounds into a double play also affects their offensive value. However for this project I mainly just want to look at positive outcomes, to measure the aggregate of all positive outcomes a player produces."
      ],
      "metadata": {
        "id": "t1okLrncd5hw"
      }
    },
    {
      "cell_type": "code",
      "source": [
        "from sklearn import linear_model\n",
        "from sklearn.model_selection import train_test_split\n",
        "from sklearn.model_selection import cross_val_score\n",
        "import statsmodels.api as sm\n",
        "\n",
        "X = data[['singles','doubles','triples','home_runs','walks','stolen_bases','sacrifice_flies']]\n",
        "Y = data['score']\n",
        "X_train,X_test,Y_train,Y_test = train_test_split(X,Y,test_size=0.2,random_state=33)\n",
        "X_train = sm.add_constant(X_train)\n",
        "results = sm.OLS(Y_train, X_train).fit()\n",
        "print(results.summary())\n",
        "\n"
      ],
      "metadata": {
        "colab": {
          "base_uri": "https://localhost:8080/"
        },
        "id": "5CW_Icn0s4N8",
        "outputId": "6461eb58-1cff-4353-ead7-39aaa9cfaa35"
      },
      "execution_count": null,
      "outputs": [
        {
          "output_type": "stream",
          "name": "stderr",
          "text": [
            "/usr/local/lib/python3.7/dist-packages/statsmodels/tools/_testing.py:19: FutureWarning: pandas.util.testing is deprecated. Use the functions in the public API at pandas.testing instead.\n",
            "  import pandas.util.testing as tm\n"
          ]
        },
        {
          "output_type": "stream",
          "name": "stdout",
          "text": [
            "                            OLS Regression Results                            \n",
            "==============================================================================\n",
            "Dep. Variable:                  score   R-squared:                       0.735\n",
            "Model:                            OLS   Adj. R-squared:                  0.735\n",
            "Method:                 Least Squares   F-statistic:                 3.902e+04\n",
            "Date:                Thu, 04 Aug 2022   Prob (F-statistic):               0.00\n",
            "Time:                        15:30:23   Log-Likelihood:            -1.8574e+05\n",
            "No. Observations:               98616   AIC:                         3.715e+05\n",
            "Df Residuals:                   98608   BIC:                         3.716e+05\n",
            "Df Model:                           7                                         \n",
            "Covariance Type:            nonrobust                                         \n",
            "===================================================================================\n",
            "                      coef    std err          t      P>|t|      [0.025      0.975]\n",
            "-----------------------------------------------------------------------------------\n",
            "const              -2.3193      0.015   -152.554      0.000      -2.349      -2.289\n",
            "singles             0.4595      0.002    242.384      0.000       0.456       0.463\n",
            "doubles             0.7426      0.004    197.322      0.000       0.735       0.750\n",
            "triples             0.9956      0.011     88.663      0.000       0.974       1.018\n",
            "home_runs           1.4188      0.005    290.754      0.000       1.409       1.428\n",
            "walks               0.2964      0.003    117.437      0.000       0.291       0.301\n",
            "stolen_bases        0.0893      0.006     16.120      0.000       0.078       0.100\n",
            "sacrifice_flies     0.6677      0.010     68.557      0.000       0.649       0.687\n",
            "==============================================================================\n",
            "Omnibus:                     3136.994   Durbin-Watson:                   2.005\n",
            "Prob(Omnibus):                  0.000   Jarque-Bera (JB):             4503.945\n",
            "Skew:                           0.334   Prob(JB):                         0.00\n",
            "Kurtosis:                       3.807   Cond. No.                         23.5\n",
            "==============================================================================\n",
            "\n",
            "Warnings:\n",
            "[1] Standard Errors assume that the covariance matrix of the errors is correctly specified.\n"
          ]
        },
        {
          "output_type": "stream",
          "name": "stderr",
          "text": [
            "/usr/local/lib/python3.7/dist-packages/statsmodels/tsa/tsatools.py:117: FutureWarning: In a future version of pandas all arguments of concat except for the argument 'objs' will be keyword-only\n",
            "  x = pd.concat(x[::order], 1)\n"
          ]
        }
      ]
    },
    {
      "cell_type": "code",
      "source": [
        "from sklearn.metrics import mean_squared_error\n",
        "from sklearn.metrics import mean_absolute_error\n",
        "from sklearn.metrics import mean_absolute_percentage_error\n",
        "from sklearn.metrics import median_absolute_error\n",
        "lrm = linear_model.LinearRegression()\n",
        "X_train,X_test,Y_train,Y_test = train_test_split(X,Y,test_size=0.2,random_state=33)\n",
        "lrm.fit(X_train,Y_train)\n",
        "ytrain_pred = lrm.predict(X_train)\n",
        "Ytest_pred = lrm.predict(X_test)\n",
        "print('R squared score for training set: {}'.format(lrm.score(X_train,Y_train)))\n",
        "print('R squared score for test set: {}'.format(lrm.score(X_test,Y_test)))\n",
        "print('cross validation scores on training set: {}'.format(cross_val_score(lrm,X_train,Y_train,cv=5)))\n",
        "print('mean squared error on the test set: {}'.format(mean_squared_error(Y_test,Ytest_pred)))\n",
        "print('mean absolute error on the test set: {}'.format(mean_absolute_error(Y_test,Ytest_pred)))\n",
        "print('median absolute error on the test set: {}'.format(median_absolute_error(Y_test,Ytest_pred)))\n"
      ],
      "metadata": {
        "colab": {
          "base_uri": "https://localhost:8080/"
        },
        "id": "-P6TFEXOvZHH",
        "outputId": "6bbe6285-30f9-47a6-c368-fc6140a0c6d6"
      },
      "execution_count": null,
      "outputs": [
        {
          "output_type": "stream",
          "name": "stdout",
          "text": [
            "R squared score for training set: 0.7347209080778049\n",
            "R squared score for test set: 0.731165268317264\n",
            "cross validation scores on training set: [0.73596322 0.73384743 0.73909245 0.73266319 0.73182725]\n",
            "mean squared error on the test set: 2.527562062312236\n",
            "mean absolute error on the test set: 1.2321541863642704\n",
            "median absolute error on the test set: 1.0002564462344559\n"
          ]
        }
      ]
    },
    {
      "cell_type": "markdown",
      "source": [
        "So for the initial regression we get an R squared of .735, this tells us that the variation in our independent variables accounts for about 73-74% of the variation in runs scored. Moreover all coefficients have a p value well below .01, and can be deemed statistically significant at a level of .01 or below, which is good. We also have a mean absolute error of 1.23, so on average this model erres by 1.23 runs. However the median absolute error is about 1 run even."
      ],
      "metadata": {
        "id": "XxavBk1SeVWn"
      }
    },
    {
      "cell_type": "markdown",
      "source": [
        "Below is the regression run on the winsorized dataset, this has a much lower R squared at .67, I'm going to leave this one alone. "
      ],
      "metadata": {
        "id": "SXiRCdnGe5WW"
      }
    },
    {
      "cell_type": "code",
      "source": [
        "win_data = pd.read_csv('baseball_winsorized.csv')"
      ],
      "metadata": {
        "id": "-THjtHnnyo-y"
      },
      "execution_count": null,
      "outputs": []
    },
    {
      "cell_type": "code",
      "source": [
        "win_data.info()"
      ],
      "metadata": {
        "colab": {
          "base_uri": "https://localhost:8080/"
        },
        "id": "knOo5SVWu_dQ",
        "outputId": "0af557cb-707c-46f2-eab7-052a3998fd45"
      },
      "execution_count": null,
      "outputs": [
        {
          "output_type": "stream",
          "name": "stdout",
          "text": [
            "<class 'pandas.core.frame.DataFrame'>\n",
            "RangeIndex: 123270 entries, 0 to 123269\n",
            "Data columns (total 19 columns):\n",
            " #   Column           Non-Null Count   Dtype  \n",
            "---  ------           --------------   -----  \n",
            " 0   Unnamed: 0       123270 non-null  int64  \n",
            " 1   Unnamed: 0.1     123270 non-null  int64  \n",
            " 2   year             123270 non-null  int64  \n",
            " 3   team             123270 non-null  object \n",
            " 4   score            123270 non-null  int64  \n",
            " 5   at_bats          123270 non-null  float64\n",
            " 6   hits             123270 non-null  float64\n",
            " 7   doubles          123270 non-null  float64\n",
            " 8   triples          123270 non-null  float64\n",
            " 9   home_runs        123270 non-null  float64\n",
            " 10  rbi              123270 non-null  float64\n",
            " 11  sacrifice_hits   123270 non-null  float64\n",
            " 12  sacrifice_flies  123270 non-null  float64\n",
            " 13  walks            123270 non-null  float64\n",
            " 14  stolen_bases     123270 non-null  float64\n",
            " 15  home/away        123270 non-null  object \n",
            " 16  singles          123270 non-null  float64\n",
            " 17  ballpark         123270 non-null  object \n",
            " 18  total_bases      123270 non-null  float64\n",
            "dtypes: float64(12), int64(4), object(3)\n",
            "memory usage: 17.9+ MB\n"
          ]
        }
      ]
    },
    {
      "cell_type": "code",
      "source": [
        "X_win = win_data[['singles','doubles','triples','home_runs','walks','stolen_bases','sacrifice_flies']]\n",
        "Y_win = win_data['score']\n",
        "\n",
        "Xw_train, Xw_test, Yw_train, Yw_test = train_test_split(X_win,Y_win,test_size=0.2,random_state=33)\n",
        "Xw_train = sm.add_constant(Xw_train)\n",
        "Xw_test = sm.add_constant(Xw_test)\n",
        "results1 = sm.OLS(Yw_train, Xw_train).fit()\n",
        "print(results1.summary())"
      ],
      "metadata": {
        "colab": {
          "base_uri": "https://localhost:8080/"
        },
        "id": "_TM1jU_CvBK2",
        "outputId": "d98226bb-0dc9-4686-e09a-39dd87f0c2e6"
      },
      "execution_count": null,
      "outputs": [
        {
          "output_type": "stream",
          "name": "stdout",
          "text": [
            "                            OLS Regression Results                            \n",
            "==============================================================================\n",
            "Dep. Variable:                  score   R-squared:                       0.674\n",
            "Model:                            OLS   Adj. R-squared:                  0.674\n",
            "Method:                 Least Squares   F-statistic:                 2.918e+04\n",
            "Date:                Thu, 04 Aug 2022   Prob (F-statistic):               0.00\n",
            "Time:                        15:30:24   Log-Likelihood:            -1.9585e+05\n",
            "No. Observations:               98616   AIC:                         3.917e+05\n",
            "Df Residuals:                   98608   BIC:                         3.918e+05\n",
            "Df Model:                           7                                         \n",
            "Covariance Type:            nonrobust                                         \n",
            "===================================================================================\n",
            "                      coef    std err          t      P>|t|      [0.025      0.975]\n",
            "-----------------------------------------------------------------------------------\n",
            "const              -2.7402      0.018   -148.834      0.000      -2.776      -2.704\n",
            "singles             0.4947      0.002    210.449      0.000       0.490       0.499\n",
            "doubles             0.8052      0.005    174.479      0.000       0.796       0.814\n",
            "triples             0.9985      0.012     80.259      0.000       0.974       1.023\n",
            "home_runs           1.7304      0.007    244.141      0.000       1.717       1.744\n",
            "walks               0.3455      0.003    106.302      0.000       0.339       0.352\n",
            "stolen_bases        0.0913      0.008     11.756      0.000       0.076       0.107\n",
            "sacrifice_flies     0.6967      0.011     64.617      0.000       0.676       0.718\n",
            "==============================================================================\n",
            "Omnibus:                    10278.039   Durbin-Watson:                   2.005\n",
            "Prob(Omnibus):                  0.000   Jarque-Bera (JB):            22326.674\n",
            "Skew:                           0.654   Prob(JB):                         0.00\n",
            "Kurtosis:                       4.929   Cond. No.                         24.7\n",
            "==============================================================================\n",
            "\n",
            "Warnings:\n",
            "[1] Standard Errors assume that the covariance matrix of the errors is correctly specified.\n"
          ]
        },
        {
          "output_type": "stream",
          "name": "stderr",
          "text": [
            "/usr/local/lib/python3.7/dist-packages/statsmodels/tsa/tsatools.py:117: FutureWarning: In a future version of pandas all arguments of concat except for the argument 'objs' will be keyword-only\n",
            "  x = pd.concat(x[::order], 1)\n"
          ]
        }
      ]
    },
    {
      "cell_type": "markdown",
      "source": [
        "Next up I create a different regression, one using just total bases, walks, sacrifice flies, and stolen bases. This model performs slightly less well than the one where the types of hits are all taken into account. The R squared is slightly lower, as is the mean absolute error, so I will also leave this one alone."
      ],
      "metadata": {
        "id": "bNVfOv5tfEor"
      }
    },
    {
      "cell_type": "code",
      "source": [
        "Xa = data[['total_bases','walks','sacrifice_flies','stolen_bases']]\n",
        "Ya = data['score']\n",
        "\n",
        "Xa_train, Xa_test, Ya_train, Ya_test = train_test_split(Xa, Ya, test_size=0.2, random_state=33)\n",
        "Xa_train = sm.add_constant(Xa_train)\n",
        "Xa_test = sm.add_constant(Xa_test)\n",
        "results2 = sm.OLS(Ya_train, Xa_train).fit()\n",
        "print(results2.summary())\n"
      ],
      "metadata": {
        "colab": {
          "base_uri": "https://localhost:8080/"
        },
        "id": "5YX1SSgkv8LL",
        "outputId": "7bece2ad-824e-4591-d27d-86c9b3ad8f05"
      },
      "execution_count": null,
      "outputs": [
        {
          "output_type": "stream",
          "name": "stderr",
          "text": [
            "/usr/local/lib/python3.7/dist-packages/statsmodels/tsa/tsatools.py:117: FutureWarning: In a future version of pandas all arguments of concat except for the argument 'objs' will be keyword-only\n",
            "  x = pd.concat(x[::order], 1)\n"
          ]
        },
        {
          "output_type": "stream",
          "name": "stdout",
          "text": [
            "                            OLS Regression Results                            \n",
            "==============================================================================\n",
            "Dep. Variable:                  score   R-squared:                       0.729\n",
            "Model:                            OLS   Adj. R-squared:                  0.728\n",
            "Method:                 Least Squares   F-statistic:                 6.615e+04\n",
            "Date:                Thu, 04 Aug 2022   Prob (F-statistic):               0.00\n",
            "Time:                        15:30:24   Log-Likelihood:            -1.8688e+05\n",
            "No. Observations:               98616   AIC:                         3.738e+05\n",
            "Df Residuals:                   98611   BIC:                         3.738e+05\n",
            "Df Model:                           4                                         \n",
            "Covariance Type:            nonrobust                                         \n",
            "===================================================================================\n",
            "                      coef    std err          t      P>|t|      [0.025      0.975]\n",
            "-----------------------------------------------------------------------------------\n",
            "const              -2.0314      0.014   -144.159      0.000      -2.059      -2.004\n",
            "total_bases         0.3801      0.001    447.827      0.000       0.378       0.382\n",
            "walks               0.2975      0.003    116.596      0.000       0.292       0.302\n",
            "sacrifice_flies     0.7122      0.010     73.208      0.000       0.693       0.731\n",
            "stolen_bases        0.1207      0.006     21.718      0.000       0.110       0.132\n",
            "==============================================================================\n",
            "Omnibus:                     4473.728   Durbin-Watson:                   2.006\n",
            "Prob(Omnibus):                  0.000   Jarque-Bera (JB):             6610.299\n",
            "Skew:                           0.423   Prob(JB):                         0.00\n",
            "Kurtosis:                       3.944   Cond. No.                         43.0\n",
            "==============================================================================\n",
            "\n",
            "Warnings:\n",
            "[1] Standard Errors assume that the covariance matrix of the errors is correctly specified.\n"
          ]
        }
      ]
    },
    {
      "cell_type": "code",
      "source": [
        "lrm.fit(Xa_train,Ya_train)\n",
        "yatrain_pred = lrm.predict(Xa_train)\n",
        "yatest_pred = lrm.predict(Xa_test)\n",
        "print('alternate training set R squared score is: {}'.format(lrm.score(Xa_train,Ya_train)))\n",
        "print('alternate test set R squared score is: {}'.format(lrm.score(Xa_test,Ya_test)))\n",
        "print('cross val score for alternate training set: {}'.format(cross_val_score(lrm,Xa_train,Ya_train,cv=5)))\n",
        "print('mean squared error for test set: {}'.format(mean_squared_error(Ya_test,yatest_pred)))\n",
        "print('mean absolute error for test set: {}'.format(mean_absolute_error(Ya_test,yatest_pred)))\n",
        "print('median absolute error for test set: {}'.format(median_absolute_error(Ya_test,yatest_pred)))"
      ],
      "metadata": {
        "colab": {
          "base_uri": "https://localhost:8080/"
        },
        "id": "EjDONwH9yRXw",
        "outputId": "2ac83f46-be1b-4f61-8e74-2b237a6b77bc"
      },
      "execution_count": null,
      "outputs": [
        {
          "output_type": "stream",
          "name": "stdout",
          "text": [
            "alternate training set R squared score is: 0.7285105337447442\n",
            "alternate test set R squared score is: 0.7247722640209879\n",
            "cross val score for alternate training set: [0.72941531 0.72761018 0.73352019 0.72656351 0.72536774]\n",
            "mean squared error for test set: 2.587668563515868\n",
            "mean absolute error for test set: 1.241489666838941\n",
            "median absolute error for test set: 1.0000343756119996\n"
          ]
        }
      ]
    },
    {
      "cell_type": "code",
      "source": [
        "data_plus = pd.read_csv('baseball_plus.csv')\n",
        "data_plus.info()"
      ],
      "metadata": {
        "colab": {
          "base_uri": "https://localhost:8080/"
        },
        "id": "otpRy3bX2pXu",
        "outputId": "bfe4ce08-3667-4aa3-bb23-486f4e7720c3"
      },
      "execution_count": null,
      "outputs": [
        {
          "output_type": "stream",
          "name": "stdout",
          "text": [
            "<class 'pandas.core.frame.DataFrame'>\n",
            "RangeIndex: 123270 entries, 0 to 123269\n",
            "Data columns (total 23 columns):\n",
            " #   Column           Non-Null Count   Dtype  \n",
            "---  ------           --------------   -----  \n",
            " 0   Unnamed: 0       123270 non-null  int64  \n",
            " 1   Unnamed: 0.1     123270 non-null  int64  \n",
            " 2   year             123270 non-null  int64  \n",
            " 3   team             123270 non-null  object \n",
            " 4   score            123270 non-null  int64  \n",
            " 5   at_bats          123270 non-null  float64\n",
            " 6   hits             123270 non-null  float64\n",
            " 7   doubles          123270 non-null  float64\n",
            " 8   triples          123270 non-null  float64\n",
            " 9   home_runs        123270 non-null  float64\n",
            " 10  rbi              123270 non-null  float64\n",
            " 11  sacrifice_hits   123270 non-null  float64\n",
            " 12  sacrifice_flies  123270 non-null  float64\n",
            " 13  walks            123270 non-null  float64\n",
            " 14  stolen_bases     123270 non-null  float64\n",
            " 15  home/away        123270 non-null  object \n",
            " 16  singles          123270 non-null  float64\n",
            " 17  ballpark         123270 non-null  object \n",
            " 18  total_bases      123270 non-null  float64\n",
            " 19  year_enc         123270 non-null  float64\n",
            " 20  ballpark_enc     123270 non-null  float64\n",
            " 21  spec_team        123270 non-null  object \n",
            " 22  spec_team_enc    123270 non-null  float64\n",
            "dtypes: float64(15), int64(4), object(4)\n",
            "memory usage: 21.6+ MB\n"
          ]
        }
      ]
    },
    {
      "cell_type": "markdown",
      "source": [
        "Here I'll add the label encoded team by year variable, as well as the label encoded ballpark variable. This does slightly improve the performance, however the difference seems nearly negligible."
      ],
      "metadata": {
        "id": "XwYUZTeSfp2k"
      }
    },
    {
      "cell_type": "code",
      "source": [
        "Xp = data_plus[['singles','doubles','triples','home_runs','walks','sacrifice_flies','stolen_bases',\n",
        "                    'spec_team_enc','ballpark_enc']]\n",
        "Yp = data_plus['score']\n",
        "Xp_train, Xp_test, Yp_train, Yp_test = train_test_split(Xp,Yp,test_size=0.2,random_state=33)\n",
        "Xp_train = sm.add_constant(Xp_train)\n",
        "Xp_test = sm.add_constant(Xp_test)\n",
        "results3 = sm.OLS(Yp_train, Xp_train).fit()\n",
        "print(results3.summary())"
      ],
      "metadata": {
        "colab": {
          "base_uri": "https://localhost:8080/"
        },
        "id": "rbOJFmbI64P7",
        "outputId": "6a04b5be-4f2d-4f7f-8d9b-1d1fbec739ae"
      },
      "execution_count": null,
      "outputs": [
        {
          "output_type": "stream",
          "name": "stdout",
          "text": [
            "                            OLS Regression Results                            \n",
            "==============================================================================\n",
            "Dep. Variable:                  score   R-squared:                       0.735\n",
            "Model:                            OLS   Adj. R-squared:                  0.735\n",
            "Method:                 Least Squares   F-statistic:                 3.040e+04\n",
            "Date:                Thu, 04 Aug 2022   Prob (F-statistic):               0.00\n",
            "Time:                        15:30:25   Log-Likelihood:            -1.8567e+05\n",
            "No. Observations:               98616   AIC:                         3.714e+05\n",
            "Df Residuals:                   98606   BIC:                         3.715e+05\n",
            "Df Model:                           9                                         \n",
            "Covariance Type:            nonrobust                                         \n",
            "===================================================================================\n",
            "                      coef    std err          t      P>|t|      [0.025      0.975]\n",
            "-----------------------------------------------------------------------------------\n",
            "const              -2.9605      0.069    -43.101      0.000      -3.095      -2.826\n",
            "singles             0.4590      0.002    242.096      0.000       0.455       0.463\n",
            "doubles             0.7389      0.004    195.471      0.000       0.731       0.746\n",
            "triples             0.9953      0.011     88.659      0.000       0.973       1.017\n",
            "home_runs           1.4095      0.005    285.339      0.000       1.400       1.419\n",
            "walks               0.2939      0.003    116.008      0.000       0.289       0.299\n",
            "sacrifice_flies     0.6652      0.010     68.331      0.000       0.646       0.684\n",
            "stolen_bases        0.0930      0.006     16.770      0.000       0.082       0.104\n",
            "spec_team_enc       0.1126      0.010     10.728      0.000       0.092       0.133\n",
            "ballpark_enc        0.0363      0.014      2.559      0.011       0.008       0.064\n",
            "==============================================================================\n",
            "Omnibus:                     3137.452   Durbin-Watson:                   2.005\n",
            "Prob(Omnibus):                  0.000   Jarque-Bera (JB):             4487.918\n",
            "Skew:                           0.335   Prob(JB):                         0.00\n",
            "Kurtosis:                       3.802   Cond. No.                         135.\n",
            "==============================================================================\n",
            "\n",
            "Warnings:\n",
            "[1] Standard Errors assume that the covariance matrix of the errors is correctly specified.\n"
          ]
        },
        {
          "output_type": "stream",
          "name": "stderr",
          "text": [
            "/usr/local/lib/python3.7/dist-packages/statsmodels/tsa/tsatools.py:117: FutureWarning: In a future version of pandas all arguments of concat except for the argument 'objs' will be keyword-only\n",
            "  x = pd.concat(x[::order], 1)\n"
          ]
        }
      ]
    },
    {
      "cell_type": "code",
      "source": [
        "\n",
        "lrm.fit(Xp_train,Yp_train)\n",
        "yptest_pred = lrm.predict(Xp_test)\n",
        "yptrain_pred = lrm.predict(Xp_train)\n",
        "print('R squared score for training set: {}'.format(lrm.score(Xp_train,Yp_train)))\n",
        "print('R squared score for test set: {}'.format(lrm.score(Xp_train,Yp_train)))\n",
        "print('cross validation scores: {}'.format(cross_val_score(lrm,Xp_train,Yp_train)))\n",
        "print('mean squared error for the test set: {}'.format(mean_squared_error(Yp_test,yptest_pred)))\n",
        "print('mean absolute error for the test set {}'.format(mean_absolute_error(Yp_test,yptest_pred)))\n",
        "print('median absolute error for the test set {}'.format(median_absolute_error(Yp_test,yptest_pred)))"
      ],
      "metadata": {
        "colab": {
          "base_uri": "https://localhost:8080/"
        },
        "id": "CvA--DNRazL-",
        "outputId": "ccfd8395-20b1-41e7-ff2a-656c80e82c46"
      },
      "execution_count": null,
      "outputs": [
        {
          "output_type": "stream",
          "name": "stdout",
          "text": [
            "R squared score for training set: 0.7351080472237707\n",
            "R squared score for test set: 0.7351080472237707\n",
            "cross validation scores: [0.73645779 0.73421481 0.73944901 0.73302216 0.73214972]\n",
            "mean squared error for the test set: 2.5239793722356407\n",
            "mean absolute error for the test set 1.2312948030794657\n",
            "median absolute error for the test set 0.999303216638497\n"
          ]
        }
      ]
    },
    {
      "cell_type": "markdown",
      "source": [
        "To finish off I'll run a random forest with the data that has the two label encoded variables added. This is really just to see how much predictive power these variables have in terms of runs scored, the random forest algorithm is generally better at prediction than most others. However, despite the very high R squared score, the mean absolute error is slightly higher than in the regression, so the random forest isn't even the better option for simply predicting runs scored, given these specific features used."
      ],
      "metadata": {
        "id": "60TTKJLXf6EY"
      }
    },
    {
      "cell_type": "code",
      "source": [
        "from sklearn.ensemble import RandomForestRegressor\n",
        "Xp = data_plus[['singles','doubles','triples','home_runs','walks','stolen_bases','sacrifice_flies',\n",
        "                'ballpark_enc','spec_team_enc','year_enc']]\n",
        "rfr = RandomForestRegressor()\n",
        "rfr.fit(Xp_train,Yp_train)\n",
        "rfr_pred = rfr.predict(Xp_test)\n",
        "print('R squared score for test set: {}'.format(rfr.score(Xp_train,Yp_train)))\n"
      ],
      "metadata": {
        "colab": {
          "base_uri": "https://localhost:8080/"
        },
        "id": "MjN8HB6fmFwL",
        "outputId": "49af9275-1cd7-4190-cb0e-0e2fc78b2062"
      },
      "execution_count": null,
      "outputs": [
        {
          "output_type": "stream",
          "name": "stdout",
          "text": [
            "R squared score for test set: 0.9585308765239268\n"
          ]
        }
      ]
    },
    {
      "cell_type": "code",
      "source": [
        "print('mean squared error for random forest on test set: {}'.format(mean_squared_error(Yp_test,rfr_pred)))\n",
        "print('mean absolute error for random forest on test set: {}'.format(mean_absolute_error(Yp_test,rfr_pred)))\n",
        "print('median absolute error for random forest on test set: {}'.format(median_absolute_error(Yp_test,rfr_pred)))"
      ],
      "metadata": {
        "colab": {
          "base_uri": "https://localhost:8080/"
        },
        "id": "BWFqkAAGmqbK",
        "outputId": "ac0ff0f8-a846-4e3d-dc6d-7025119d278e"
      },
      "execution_count": null,
      "outputs": [
        {
          "output_type": "stream",
          "name": "stdout",
          "text": [
            "mean squared error for random forest on test set: 2.774473714127517\n",
            "mean absolute error for random forest on test set: 1.279674166013178\n",
            "median absolute error for random forest on test set: 1.0199999999999996\n"
          ]
        }
      ]
    },
    {
      "cell_type": "markdown",
      "source": [
        "Ultimately each regression here is trained on about 100,000 rows, and tested on about 20,000. In all cases with the linear regressions the R squared for the training set is about the same as the R squared for the test set, so it doesn't look like we have to worry about overfitting."
      ],
      "metadata": {
        "id": "7JNSdov10M_3"
      }
    },
    {
      "cell_type": "markdown",
      "source": [
        "The first linear regression is a clear winner in my eyes here. The linear weights it gives for the different offensive outcomes are interesting. Singles are about 1.5 times more valuable than walks, and doubles about 1.5 times more valuable than singles. Home runs are about 3 times more valuable than singles, and triples are a little more than twice as valueable as singles. Stolen bases have a relatively low value (which isn't surprising seeing as they don't produce RBI's). And finally sacrifice flies are just slightly less valuable than doubles. Plugging in a players line score for each game (with these variables specifically) looks like a good way to measure the value of the player's production with respect to the potential for creating runs. Since there is already a statistic called runs created, I will not refer to this as runs created, in any case the runs created from Bill James does not use the individual hit types, but rather the total bases."
      ],
      "metadata": {
        "id": "rn9Z0sR2gXp1"
      }
    },
    {
      "cell_type": "markdown",
      "source": [
        "The advantage of this formula compared to one that uses total bases is we see that the total base values from different hits do not have the same ratios with each other as the values from this formula. That is, doubles are not quite twice as valuable as singles, and home runs are not twice as valuable as doubles and so on. Also this formula captures about 73-74% of the variation in runs scored, which isn't bad, given that runs scored is dependent on many factors, mainly situational ones. While some players do trend towards being clutch, e.g. hitting well with runners in scoring position and so on, things like that aren't as much in the player's control as offensive outcome aggregates. In the next notebook I will create a new statistic based on this formula, that also takes the year and the ballpark played in into consideration."
      ],
      "metadata": {
        "id": "q8J04CDohggd"
      }
    },
    {
      "cell_type": "code",
      "source": [
        ""
      ],
      "metadata": {
        "id": "UhOWMW_WiOlO"
      },
      "execution_count": null,
      "outputs": []
    }
  ]
}